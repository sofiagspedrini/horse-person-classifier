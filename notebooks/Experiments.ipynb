{
 "cells": [
  {
   "cell_type": "code",
   "execution_count": 5,
   "id": "0db8b002",
   "metadata": {},
   "outputs": [],
   "source": [
    "import os\n",
    "import numpy as np\n",
    "import matplotlib.pyplot as plt\n",
    "from PIL import Image\n",
    "\n",
    "import warnings\n",
    "warnings.filterwarnings('ignore')"
   ]
  },
  {
   "cell_type": "code",
   "execution_count": 6,
   "id": "141f70ef",
   "metadata": {},
   "outputs": [],
   "source": [
    "data_path = \"../Dataset\"\n",
    "\n",
    "train_path = data_path+'/Train'\n",
    "test_path = data_path+'/Test'\n",
    "\n",
    "train_horses_path = train_path+'/horses'\n",
    "test_horses_path = test_path+'/horses'\n",
    "\n",
    "train_humans_path = train_path+'/humans'\n",
    "test_humans_path = test_path+'/humans'"
   ]
  },
  {
   "cell_type": "markdown",
   "id": "4773e98c",
   "metadata": {},
   "source": [
    "Check if dataset is balanced"
   ]
  },
  {
   "cell_type": "code",
   "execution_count": 7,
   "id": "4e9eac79",
   "metadata": {},
   "outputs": [
    {
     "name": "stdout",
     "output_type": "stream",
     "text": [
      "Number of samples per class in training dataset: (Horses, Humans) -> (500, 527)\n",
      "Training set is balanced!\n"
     ]
    }
   ],
   "source": [
    "train_images_qty = len(os.listdir(train_horses_path)),len(os.listdir(train_humans_path))\n",
    "print('Number of samples per class in training dataset: (Horses, Humans) -> '+str(train_images_qty))\n",
    "if (abs(1-train_images_qty[0]/train_images_qty[1]) > 0.2):\n",
    "    print('Training set is not balanced, needs over or undersampling')\n",
    "else:\n",
    "    print('Training set is balanced!')"
   ]
  },
  {
   "cell_type": "code",
   "execution_count": 8,
   "id": "5287a415",
   "metadata": {},
   "outputs": [
    {
     "name": "stdout",
     "output_type": "stream",
     "text": [
      "Number of samples per class in testing dataset: (Horses, Humans) -> (128, 128)\n",
      "Testing set is balanced!\n"
     ]
    }
   ],
   "source": [
    "test_images_qty = len(os.listdir(test_horses_path)),len(os.listdir(test_humans_path))\n",
    "print('Number of samples per class in testing dataset: (Horses, Humans) -> '+str(test_images_qty))\n",
    "if (abs(1-train_images_qty[0]/train_images_qty[1]) > 0.2):\n",
    "    print('Testing set is not balanced, needs over or undersampling')\n",
    "else:\n",
    "    print('Testing set is balanced!')"
   ]
  }
 ],
 "metadata": {
  "kernelspec": {
   "display_name": "base",
   "language": "python",
   "name": "python3"
  },
  "language_info": {
   "codemirror_mode": {
    "name": "ipython",
    "version": 3
   },
   "file_extension": ".py",
   "mimetype": "text/x-python",
   "name": "python",
   "nbconvert_exporter": "python",
   "pygments_lexer": "ipython3",
   "version": "3.7.6"
  }
 },
 "nbformat": 4,
 "nbformat_minor": 5
}
